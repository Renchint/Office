{
 "cells": [
  {
   "cell_type": "code",
   "execution_count": 2,
   "id": "15eeb54b",
   "metadata": {},
   "outputs": [],
   "source": [
    "import pandas as pd\n",
    "import numpy as np\n",
    "import matplotlib.pyplot as plt\n",
    "import seaborn as sns\n",
    "import folium"
   ]
  },
  {
   "cell_type": "markdown",
   "id": "7a256281",
   "metadata": {},
   "source": [
    "### Data оруулах"
   ]
  },
  {
   "cell_type": "code",
   "execution_count": 3,
   "id": "e93f28d5",
   "metadata": {},
   "outputs": [],
   "source": [
    "df = pd.read_csv('input/ads_data_2025-06-19_allsheet.csv')\n"
   ]
  },
  {
   "cell_type": "markdown",
   "id": "969ceab7",
   "metadata": {},
   "source": [
    "### Оффисын нэрээр дундаж үнэ болон зарын тоог харуулах"
   ]
  },
  {
   "cell_type": "code",
   "execution_count": 4,
   "id": "74fc97fc",
   "metadata": {},
   "outputs": [
    {
     "data": {
      "text/html": [
       "<div>\n",
       "<style scoped>\n",
       "    .dataframe tbody tr th:only-of-type {\n",
       "        vertical-align: middle;\n",
       "    }\n",
       "\n",
       "    .dataframe tbody tr th {\n",
       "        vertical-align: top;\n",
       "    }\n",
       "\n",
       "    .dataframe thead th {\n",
       "        text-align: right;\n",
       "    }\n",
       "</style>\n",
       "<table border=\"1\" class=\"dataframe\">\n",
       "  <thead>\n",
       "    <tr style=\"text-align: right;\">\n",
       "      <th></th>\n",
       "      <th>avg_price_m2</th>\n",
       "      <th>ad_count</th>\n",
       "    </tr>\n",
       "    <tr>\n",
       "      <th>mytitle</th>\n",
       "      <th></th>\n",
       "      <th></th>\n",
       "    </tr>\n",
       "  </thead>\n",
       "  <tbody>\n",
       "    <tr>\n",
       "      <th>Titan Plus</th>\n",
       "      <td>4.551429</td>\n",
       "      <td>7</td>\n",
       "    </tr>\n",
       "    <tr>\n",
       "      <th>Sydney tower</th>\n",
       "      <td>4.500000</td>\n",
       "      <td>2</td>\n",
       "    </tr>\n",
       "    <tr>\n",
       "      <th>Хос даль</th>\n",
       "      <td>4.500000</td>\n",
       "      <td>2</td>\n",
       "    </tr>\n",
       "    <tr>\n",
       "      <th>Метро бизнес центр</th>\n",
       "      <td>4.470000</td>\n",
       "      <td>1</td>\n",
       "    </tr>\n",
       "    <tr>\n",
       "      <th>Москва төв</th>\n",
       "      <td>4.263333</td>\n",
       "      <td>3</td>\n",
       "    </tr>\n",
       "    <tr>\n",
       "      <th>Titan Center</th>\n",
       "      <td>4.240000</td>\n",
       "      <td>2</td>\n",
       "    </tr>\n",
       "    <tr>\n",
       "      <th>Хоймор оффис</th>\n",
       "      <td>3.985000</td>\n",
       "      <td>4</td>\n",
       "    </tr>\n",
       "    <tr>\n",
       "      <th>Dragon center</th>\n",
       "      <td>3.980000</td>\n",
       "      <td>1</td>\n",
       "    </tr>\n",
       "    <tr>\n",
       "      <th>Union Building</th>\n",
       "      <td>3.945714</td>\n",
       "      <td>14</td>\n",
       "    </tr>\n",
       "    <tr>\n",
       "      <th>Их найман шарга</th>\n",
       "      <td>3.842500</td>\n",
       "      <td>4</td>\n",
       "    </tr>\n",
       "  </tbody>\n",
       "</table>\n",
       "</div>"
      ],
      "text/plain": [
       "                    avg_price_m2  ad_count\n",
       "mytitle                                   \n",
       "Titan Plus              4.551429         7\n",
       "Sydney tower            4.500000         2\n",
       "Хос даль                4.500000         2\n",
       "Метро бизнес центр      4.470000         1\n",
       "Москва төв              4.263333         3\n",
       "Titan Center            4.240000         2\n",
       "Хоймор оффис            3.985000         4\n",
       "Dragon center           3.980000         1\n",
       "Union Building          3.945714        14\n",
       "Их найман шарга         3.842500         4"
      ]
     },
     "execution_count": 4,
     "metadata": {},
     "output_type": "execute_result"
    }
   ],
   "source": [
    "# mytitle дээр бүлэглээд дундаж үнэ ба зарын тоог хамт гаргах\n",
    "summary = df.groupby('mytitle').agg(\n",
    "    avg_price_m2=('price_m2', 'mean'),\n",
    "    ad_count=('price_m2', 'count')\n",
    ").sort_values('avg_price_m2', ascending=False)\n",
    "\n",
    "# Хамгийн өндөр үнэтэй 10 оффисыг харах\n",
    "summary.tail(10)"
   ]
  },
  {
   "cell_type": "code",
   "execution_count": 7,
   "id": "5134e3f4",
   "metadata": {},
   "outputs": [],
   "source": [
    "df1 = pd.read_excel('D:/Projects/Office/Office аргачлал.xlsx', sheet_name=4)"
   ]
  },
  {
   "cell_type": "code",
   "execution_count": 9,
   "id": "d22dccaf",
   "metadata": {},
   "outputs": [
    {
     "name": "stdout",
     "output_type": "stream",
     "text": [
      "<class 'pandas.core.frame.DataFrame'>\n",
      "RangeIndex: 193 entries, 0 to 192\n",
      "Data columns (total 16 columns):\n",
      " #   Column           Non-Null Count  Dtype  \n",
      "---  ------           --------------  -----  \n",
      " 0   №                190 non-null    float64\n",
      " 1   district         193 non-null    object \n",
      " 2   khoroo           193 non-null    int64  \n",
      " 3   number           187 non-null    object \n",
      " 4   zip code         165 non-null    float64\n",
      " 5   Хаяг нэгтгэсэн   0 non-null      float64\n",
      " 6   office_name      184 non-null    object \n",
      " 7   Бүтээц           193 non-null    object \n",
      " 8   floor            193 non-null    int64  \n",
      " 9   op_date          183 non-null    object \n",
      " 10  Гудамжны нэр     187 non-null    object \n",
      " 11  Координат        182 non-null    object \n",
      " 12  Үнэлгээ          2 non-null      float64\n",
      " 13  Үнэлгээ\n",
      "2024.12  2 non-null      float64\n",
      " 14  Large            2 non-null      float64\n",
      " 15  Байрны дугаар    0 non-null      float64\n",
      "dtypes: float64(7), int64(2), object(7)\n",
      "memory usage: 24.3+ KB\n"
     ]
    }
   ],
   "source": [
    "df1.info()"
   ]
  },
  {
   "cell_type": "code",
   "execution_count": null,
   "id": "39934713",
   "metadata": {},
   "outputs": [],
   "source": [
    "# 1. df-ээс mytitle бүрийн дундаж үнэ гаргаж dict болгон хувиргана\n",
    "avg_price_dict = df.groupby('mytitle')['price_m2'].mean().to_dict()\n",
    "\n",
    "# 2. df1['office_name']-ийг ашиглан дундаж үнийг 'Үнэлгээ' баганад оруулах\n",
    "df1['Үнэлгээ'] = df1['office_name'].map(avg_price_dict)\n",
    "df1.to_excel('average_price.xlsx', index=False)"
   ]
  },
  {
   "cell_type": "code",
   "execution_count": 25,
   "id": "364354cb",
   "metadata": {},
   "outputs": [
    {
     "data": {
      "text/html": [
       "<div>\n",
       "<style scoped>\n",
       "    .dataframe tbody tr th:only-of-type {\n",
       "        vertical-align: middle;\n",
       "    }\n",
       "\n",
       "    .dataframe tbody tr th {\n",
       "        vertical-align: top;\n",
       "    }\n",
       "\n",
       "    .dataframe thead th {\n",
       "        text-align: right;\n",
       "    }\n",
       "</style>\n",
       "<table border=\"1\" class=\"dataframe\">\n",
       "  <thead>\n",
       "    <tr style=\"text-align: right;\">\n",
       "      <th></th>\n",
       "      <th>avg_price_m2</th>\n",
       "      <th>ad_count</th>\n",
       "    </tr>\n",
       "    <tr>\n",
       "      <th>mytitle</th>\n",
       "      <th></th>\n",
       "      <th></th>\n",
       "    </tr>\n",
       "  </thead>\n",
       "  <tbody>\n",
       "    <tr>\n",
       "      <th>Minister Tower</th>\n",
       "      <td>13.47</td>\n",
       "      <td>4</td>\n",
       "    </tr>\n",
       "    <tr>\n",
       "      <th>Park place</th>\n",
       "      <td>13.00</td>\n",
       "      <td>1</td>\n",
       "    </tr>\n",
       "    <tr>\n",
       "      <th>Ayud tower</th>\n",
       "      <td>12.00</td>\n",
       "      <td>1</td>\n",
       "    </tr>\n",
       "    <tr>\n",
       "      <th>MERU tower</th>\n",
       "      <td>10.65</td>\n",
       "      <td>1</td>\n",
       "    </tr>\n",
       "    <tr>\n",
       "      <th>Paragon</th>\n",
       "      <td>10.00</td>\n",
       "      <td>1</td>\n",
       "    </tr>\n",
       "    <tr>\n",
       "      <th>Galaxy tower</th>\n",
       "      <td>10.00</td>\n",
       "      <td>2</td>\n",
       "    </tr>\n",
       "    <tr>\n",
       "      <th>Gem castle</th>\n",
       "      <td>9.80</td>\n",
       "      <td>9</td>\n",
       "    </tr>\n",
       "    <tr>\n",
       "      <th>Soyombo tower</th>\n",
       "      <td>9.60</td>\n",
       "      <td>17</td>\n",
       "    </tr>\n",
       "    <tr>\n",
       "      <th>Sumo tower</th>\n",
       "      <td>9.50</td>\n",
       "      <td>2</td>\n",
       "    </tr>\n",
       "    <tr>\n",
       "      <th>Peace tower</th>\n",
       "      <td>9.20</td>\n",
       "      <td>3</td>\n",
       "    </tr>\n",
       "  </tbody>\n",
       "</table>\n",
       "</div>"
      ],
      "text/plain": [
       "                avg_price_m2  ad_count\n",
       "mytitle                               \n",
       "Minister Tower         13.47         4\n",
       "Park place             13.00         1\n",
       "Ayud tower             12.00         1\n",
       "MERU tower             10.65         1\n",
       "Paragon                10.00         1\n",
       "Galaxy tower           10.00         2\n",
       "Gem castle              9.80         9\n",
       "Soyombo tower           9.60        17\n",
       "Sumo tower              9.50         2\n",
       "Peace tower             9.20         3"
      ]
     },
     "execution_count": 25,
     "metadata": {},
     "output_type": "execute_result"
    }
   ],
   "source": [
    "# mytitle дээр бүлэглээд дундаж үнэ ба зарын тоог хамт гаргах\n",
    "summary = df.groupby('mytitle').agg(\n",
    "    avg_price_m2=('price_m2', 'min'),\n",
    "    ad_count=('price_m2', 'count')\n",
    ").sort_values('avg_price_m2', ascending=False)\n",
    "\n",
    "# Хамгийн өндөр үнэтэй 10 оффисыг харах\n",
    "summary.head(10)"
   ]
  },
  {
   "cell_type": "code",
   "execution_count": null,
   "id": "3b1b3e5d",
   "metadata": {},
   "outputs": [],
   "source": []
  }
 ],
 "metadata": {
  "kernelspec": {
   "display_name": "base",
   "language": "python",
   "name": "python3"
  },
  "language_info": {
   "codemirror_mode": {
    "name": "ipython",
    "version": 3
   },
   "file_extension": ".py",
   "mimetype": "text/x-python",
   "name": "python",
   "nbconvert_exporter": "python",
   "pygments_lexer": "ipython3",
   "version": "3.12.7"
  }
 },
 "nbformat": 4,
 "nbformat_minor": 5
}
