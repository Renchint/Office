{
 "cells": [
  {
   "cell_type": "markdown",
   "id": "b04abd1a",
   "metadata": {},
   "source": [
    "# Дата цэвэрлэх"
   ]
  },
  {
   "cell_type": "code",
   "execution_count": 479,
   "id": "c7528cf9",
   "metadata": {},
   "outputs": [],
   "source": [
    "# Хэрэгтэй сангуудыг оруулах\n",
    "import pandas as pd\n",
    "import re\n",
    "import os\n",
    "from datetime import datetime, timedelta"
   ]
  },
  {
   "cell_type": "code",
   "execution_count": 480,
   "id": "a21805f3",
   "metadata": {},
   "outputs": [],
   "source": [
    "main_path = 'input'\n",
    "df = pd.read_csv(main_path + '/ads_data_2025-06-18_13-59-54.csv')"
   ]
  },
  {
   "cell_type": "markdown",
   "id": "14c4211c",
   "metadata": {},
   "source": [
    "### Хэрэггүй багана арилга"
   ]
  },
  {
   "cell_type": "code",
   "execution_count": 481,
   "id": "32ba50be",
   "metadata": {},
   "outputs": [],
   "source": [
    "df.drop(columns=['page_number','ad_number','phone', 'Төлбөрийн нөхцөл:'], inplace=True)"
   ]
  },
  {
   "cell_type": "markdown",
   "id": "80e3a709",
   "metadata": {},
   "source": [
    "### Хоосон утгыг устгах"
   ]
  },
  {
   "cell_type": "code",
   "execution_count": 482,
   "id": "d25f101f",
   "metadata": {},
   "outputs": [
    {
     "data": {
      "text/plain": [
       "url               0\n",
       "title             0\n",
       "location          0\n",
       "date              0\n",
       "id                0\n",
       "price             0\n",
       "ad_text           0\n",
       "Талбай:          52\n",
       "Барилгын явц:    52\n",
       "clean_coords     10\n",
       "dtype: int64"
      ]
     },
     "execution_count": 482,
     "metadata": {},
     "output_type": "execute_result"
    }
   ],
   "source": [
    "df.isna().sum()"
   ]
  },
  {
   "cell_type": "code",
   "execution_count": 483,
   "id": "d35fa06d",
   "metadata": {},
   "outputs": [],
   "source": [
    "df.dropna(subset=['Талбай:', 'Барилгын явц:'], inplace=True )"
   ]
  },
  {
   "cell_type": "markdown",
   "id": "9792413d",
   "metadata": {},
   "source": [
    "### Давхацсан утгыг устгах"
   ]
  },
  {
   "cell_type": "code",
   "execution_count": 484,
   "id": "746c47ef",
   "metadata": {},
   "outputs": [
    {
     "data": {
      "text/plain": [
       "url              14\n",
       "title            14\n",
       "location         14\n",
       "date             14\n",
       "id               14\n",
       "price            14\n",
       "ad_text          14\n",
       "Талбай:          14\n",
       "Барилгын явц:    14\n",
       "clean_coords     14\n",
       "dtype: int64"
      ]
     },
     "execution_count": 484,
     "metadata": {},
     "output_type": "execute_result"
    }
   ],
   "source": [
    "df[df.duplicated(subset=['id', 'title', 'date'], keep=False)].count()"
   ]
  },
  {
   "cell_type": "code",
   "execution_count": 485,
   "id": "d524a37e",
   "metadata": {},
   "outputs": [],
   "source": [
    "df.drop_duplicates(subset=['id', 'title', 'date'], keep='first',inplace=True)"
   ]
  },
  {
   "cell_type": "markdown",
   "id": "cec25532",
   "metadata": {},
   "source": [
    "### Title болон ad_text баганад байгаа оффисын нэрийг нэг баганад нэмэх"
   ]
  },
  {
   "cell_type": "code",
   "execution_count": 486,
   "id": "1a78c914",
   "metadata": {},
   "outputs": [],
   "source": [
    "# name.xlsx-ийг ачаалж, dictionary болгох\n",
    "replace_df = pd.read_excel('D:/Projects/Office/02_data_cleaning/input/name.xlsx', header=1)\n",
    "replace_df.columns = ['title', 'mytitle']  \n",
    "replace_dict = dict(zip(replace_df['title'], replace_df['mytitle']))"
   ]
  },
  {
   "cell_type": "code",
   "execution_count": 487,
   "id": "b92ba234",
   "metadata": {},
   "outputs": [],
   "source": [
    "# Функц: title болон ad_text баганыг шалгаж, тохирсон mytitle-г буцаана\n",
    "def find_office_name(row):\n",
    "    texts = []\n",
    "    if isinstance(row['title'], str):\n",
    "        texts.append(row['title'].lower())\n",
    "    if isinstance(row['ad_text'], str):\n",
    "        texts.append(row['ad_text'].lower())\n",
    "\n",
    "    for key, value in replace_dict.items():\n",
    "        key_lower = str(key).lower()\n",
    "        if any(key_lower in text for text in texts):\n",
    "            return value\n",
    "    return None"
   ]
  },
  {
   "cell_type": "code",
   "execution_count": 488,
   "id": "d218d7b3",
   "metadata": {},
   "outputs": [],
   "source": [
    "df['mytitle'] = df.apply(find_office_name, axis=1)\n",
    "df = df.rename(columns={'mytitle' : 'office_name'})"
   ]
  },
  {
   "cell_type": "markdown",
   "id": "f884cf46",
   "metadata": {},
   "source": [
    "### Хороо дүүрэг салгах"
   ]
  },
  {
   "cell_type": "code",
   "execution_count": 489,
   "id": "13e8a7a2",
   "metadata": {},
   "outputs": [],
   "source": [
    "import util as ut "
   ]
  },
  {
   "cell_type": "code",
   "execution_count": 490,
   "id": "c53acf7e",
   "metadata": {},
   "outputs": [],
   "source": [
    " #District name\n",
    "df['district'] = df['location'].apply(ut.get_district)"
   ]
  },
  {
   "cell_type": "code",
   "execution_count": 491,
   "id": "01e21b23",
   "metadata": {},
   "outputs": [],
   "source": [
    "#Khoroo\n",
    "df['khoroo'] = df['location'].apply(ut.get_khoroo)"
   ]
  },
  {
   "cell_type": "markdown",
   "id": "bc197333",
   "metadata": {},
   "source": [
    "### Байршил ойролцоогоор хаяглах"
   ]
  },
  {
   "cell_type": "code",
   "execution_count": 492,
   "id": "7fdf19fe",
   "metadata": {},
   "outputs": [],
   "source": [
    "# location \n",
    "df_loc = pd.read_csv('D:/Projects/Office/02_data_cleaning/input/location.csv')"
   ]
  },
  {
   "cell_type": "code",
   "execution_count": 493,
   "id": "58f66eb2",
   "metadata": {},
   "outputs": [
    {
     "data": {
      "text/plain": [
       "0"
      ]
     },
     "execution_count": 493,
     "metadata": {},
     "output_type": "execute_result"
    }
   ],
   "source": [
    "df = df.merge(df_loc, how='left', on='location')\n",
    "\n",
    "df['mylocation'].value_counts()\n",
    "df['mylocation'].isna().sum()\n"
   ]
  },
  {
   "cell_type": "code",
   "execution_count": 494,
   "id": "18142d1b",
   "metadata": {},
   "outputs": [
    {
     "data": {
      "text/html": [
       "<div>\n",
       "<style scoped>\n",
       "    .dataframe tbody tr th:only-of-type {\n",
       "        vertical-align: middle;\n",
       "    }\n",
       "\n",
       "    .dataframe tbody tr th {\n",
       "        vertical-align: top;\n",
       "    }\n",
       "\n",
       "    .dataframe thead th {\n",
       "        text-align: right;\n",
       "    }\n",
       "</style>\n",
       "<table border=\"1\" class=\"dataframe\">\n",
       "  <thead>\n",
       "    <tr style=\"text-align: right;\">\n",
       "      <th></th>\n",
       "      <th>location</th>\n",
       "      <th>mylocation</th>\n",
       "    </tr>\n",
       "  </thead>\n",
       "  <tbody>\n",
       "  </tbody>\n",
       "</table>\n",
       "</div>"
      ],
      "text/plain": [
       "Empty DataFrame\n",
       "Columns: [location, mylocation]\n",
       "Index: []"
      ]
     },
     "execution_count": 494,
     "metadata": {},
     "output_type": "execute_result"
    }
   ],
   "source": [
    "df[df['mylocation'].isna()][['location','mylocation']]"
   ]
  },
  {
   "cell_type": "markdown",
   "id": "34f36163",
   "metadata": {},
   "source": [
    "### Зарим баганы нэрийг өөрчлөх"
   ]
  },
  {
   "cell_type": "code",
   "execution_count": 495,
   "id": "a964600c",
   "metadata": {},
   "outputs": [
    {
     "data": {
      "text/plain": [
       "Index(['url', 'title', 'location', 'date', 'ad_id', 'price_total', 'ad_text',\n",
       "       'size', 'progress_cons', 'clean_coords', 'office_name', 'district',\n",
       "       'khoroo', 'mylocation'],\n",
       "      dtype='object')"
      ]
     },
     "execution_count": 495,
     "metadata": {},
     "output_type": "execute_result"
    }
   ],
   "source": [
    "name_cols = {\n",
    "           'Title' : 'title',\n",
    "            'price' : 'price_total',\n",
    "            'Date'  : 'date',\n",
    "            'Time'  : 'time',\n",
    "            'id'    : 'ad_id',\n",
    "            'loc'   : 'location',\n",
    "            'message' : 'ad_text',\n",
    "            'Талбай:' : 'size',\n",
    "            'Барилгын явц:'          : 'progress_cons',\n",
    "            'Төлбөрийн нөхцөл:'      : 'payment_terms',\n",
    "            }\n",
    "\n",
    "df.rename(columns=name_cols, inplace=True)\n",
    "df.columns"
   ]
  },
  {
   "cell_type": "markdown",
   "id": "bfd6d254",
   "metadata": {},
   "source": [
    "### Талбайн болон үнийн мэдээллийг цэвэрлэж тоо болгох"
   ]
  },
  {
   "cell_type": "code",
   "execution_count": 496,
   "id": "eeeaee39",
   "metadata": {},
   "outputs": [
    {
     "data": {
      "text/html": [
       "<div>\n",
       "<style scoped>\n",
       "    .dataframe tbody tr th:only-of-type {\n",
       "        vertical-align: middle;\n",
       "    }\n",
       "\n",
       "    .dataframe tbody tr th {\n",
       "        vertical-align: top;\n",
       "    }\n",
       "\n",
       "    .dataframe thead th {\n",
       "        text-align: right;\n",
       "    }\n",
       "</style>\n",
       "<table border=\"1\" class=\"dataframe\">\n",
       "  <thead>\n",
       "    <tr style=\"text-align: right;\">\n",
       "      <th></th>\n",
       "      <th>price_total</th>\n",
       "      <th>size</th>\n",
       "    </tr>\n",
       "  </thead>\n",
       "  <tbody>\n",
       "    <tr>\n",
       "      <th>0</th>\n",
       "      <td>482.04 сая ₮</td>\n",
       "      <td>74 м²</td>\n",
       "    </tr>\n",
       "    <tr>\n",
       "      <th>1</th>\n",
       "      <td>254.41 сая ₮</td>\n",
       "      <td>39 м²</td>\n",
       "    </tr>\n",
       "    <tr>\n",
       "      <th>2</th>\n",
       "      <td>7.3 сая ₮</td>\n",
       "      <td>65 м²</td>\n",
       "    </tr>\n",
       "    <tr>\n",
       "      <th>3</th>\n",
       "      <td>1.4 Тэрбум ₮\\nүнэ тохирно</td>\n",
       "      <td>210 м²</td>\n",
       "    </tr>\n",
       "    <tr>\n",
       "      <th>4</th>\n",
       "      <td>175 сая ₮\\n193.95 сая ₮</td>\n",
       "      <td>34 м²</td>\n",
       "    </tr>\n",
       "    <tr>\n",
       "      <th>...</th>\n",
       "      <td>...</td>\n",
       "      <td>...</td>\n",
       "    </tr>\n",
       "    <tr>\n",
       "      <th>1082</th>\n",
       "      <td>1.26 Тэрбум ₮</td>\n",
       "      <td>200 м² м²</td>\n",
       "    </tr>\n",
       "    <tr>\n",
       "      <th>1083</th>\n",
       "      <td>7.5 сая ₮</td>\n",
       "      <td>107 м²</td>\n",
       "    </tr>\n",
       "    <tr>\n",
       "      <th>1084</th>\n",
       "      <td>290 сая ₮</td>\n",
       "      <td>56 м²</td>\n",
       "    </tr>\n",
       "    <tr>\n",
       "      <th>1085</th>\n",
       "      <td>4.2 сая ₮</td>\n",
       "      <td>220 м²</td>\n",
       "    </tr>\n",
       "    <tr>\n",
       "      <th>1086</th>\n",
       "      <td>8.9 сая ₮</td>\n",
       "      <td>197 м²</td>\n",
       "    </tr>\n",
       "  </tbody>\n",
       "</table>\n",
       "<p>1087 rows × 2 columns</p>\n",
       "</div>"
      ],
      "text/plain": [
       "                    price_total       size\n",
       "0                  482.04 сая ₮      74 м²\n",
       "1                  254.41 сая ₮      39 м²\n",
       "2                     7.3 сая ₮      65 м²\n",
       "3     1.4 Тэрбум ₮\\nүнэ тохирно     210 м²\n",
       "4       175 сая ₮\\n193.95 сая ₮      34 м²\n",
       "...                         ...        ...\n",
       "1082              1.26 Тэрбум ₮  200 м² м²\n",
       "1083                  7.5 сая ₮     107 м²\n",
       "1084                  290 сая ₮      56 м²\n",
       "1085                  4.2 сая ₮     220 м²\n",
       "1086                  8.9 сая ₮     197 м²\n",
       "\n",
       "[1087 rows x 2 columns]"
      ]
     },
     "execution_count": 496,
     "metadata": {},
     "output_type": "execute_result"
    }
   ],
   "source": [
    "df[['price_total','size']]"
   ]
  },
  {
   "cell_type": "markdown",
   "id": "8da7a37d",
   "metadata": {},
   "source": [
    "### Талбайн хэмжээ"
   ]
  },
  {
   "cell_type": "code",
   "execution_count": 497,
   "id": "71cb868e",
   "metadata": {},
   "outputs": [
    {
     "data": {
      "text/plain": [
       "area    float64\n",
       "size     object\n",
       "dtype: object"
      ]
     },
     "execution_count": 497,
     "metadata": {},
     "output_type": "execute_result"
    }
   ],
   "source": [
    "df['area'] = df['size'].apply(\n",
    "    lambda x: float(re.findall(r'\\d+[\\.\\d]*', str(x))[0]) if pd.notnull(x) and re.findall(r'\\d+[\\.\\d]*', str(x)) else None\n",
    ")\n",
    "df[['area','size']]\n",
    "df[['area','size']].dtypes\n"
   ]
  },
  {
   "cell_type": "code",
   "execution_count": 498,
   "id": "9ab3eb2b",
   "metadata": {},
   "outputs": [],
   "source": [
    "df = df[df['area'] >= 10 ]"
   ]
  },
  {
   "cell_type": "markdown",
   "id": "1620cf45",
   "metadata": {},
   "source": [
    "### Оффисын үнэ"
   ]
  },
  {
   "cell_type": "markdown",
   "id": "544307fa",
   "metadata": {},
   "source": [
    "Хэрэггүй утгыг арилгаж Float болгох"
   ]
  },
  {
   "cell_type": "code",
   "execution_count": 499,
   "id": "9a3198fc",
   "metadata": {},
   "outputs": [
    {
     "data": {
      "text/plain": [
       "price          float64\n",
       "price_total     object\n",
       "dtype: object"
      ]
     },
     "execution_count": 499,
     "metadata": {},
     "output_type": "execute_result"
    }
   ],
   "source": [
    "df['price'] = df['price_total'].apply(lambda x: re.findall(r'\\d+[\\.\\d]*', x)[0]).astype(float)\n",
    "df[['price','price_total']]\n",
    "df[['price','price_total']].dtypes"
   ]
  },
  {
   "cell_type": "markdown",
   "id": "a2b563dd",
   "metadata": {},
   "source": [
    "Тэр бум гэсэн утгыг тоо болгох"
   ]
  },
  {
   "cell_type": "code",
   "execution_count": 500,
   "id": "12d56d64",
   "metadata": {},
   "outputs": [],
   "source": [
    "mask = df['price_total'].str.contains('бум', na=False) & (df['price'] < 16)\n",
    "df.loc[mask, 'price'] = df.loc[mask, 'price'] * 1000"
   ]
  },
  {
   "cell_type": "code",
   "execution_count": 501,
   "id": "b7669636",
   "metadata": {},
   "outputs": [
    {
     "data": {
      "text/html": [
       "<div>\n",
       "<style scoped>\n",
       "    .dataframe tbody tr th:only-of-type {\n",
       "        vertical-align: middle;\n",
       "    }\n",
       "\n",
       "    .dataframe tbody tr th {\n",
       "        vertical-align: top;\n",
       "    }\n",
       "\n",
       "    .dataframe thead th {\n",
       "        text-align: right;\n",
       "    }\n",
       "</style>\n",
       "<table border=\"1\" class=\"dataframe\">\n",
       "  <thead>\n",
       "    <tr style=\"text-align: right;\">\n",
       "      <th></th>\n",
       "      <th>url</th>\n",
       "      <th>title</th>\n",
       "      <th>location</th>\n",
       "      <th>date</th>\n",
       "      <th>ad_id</th>\n",
       "      <th>price_total</th>\n",
       "      <th>ad_text</th>\n",
       "      <th>size</th>\n",
       "      <th>progress_cons</th>\n",
       "      <th>clean_coords</th>\n",
       "      <th>office_name</th>\n",
       "      <th>district</th>\n",
       "      <th>khoroo</th>\n",
       "      <th>mylocation</th>\n",
       "      <th>area</th>\n",
       "      <th>price</th>\n",
       "    </tr>\n",
       "  </thead>\n",
       "  <tbody>\n",
       "    <tr>\n",
       "      <th>515</th>\n",
       "      <td>https://www.unegui.mn/adv/8411374_ondor-zeregl...</td>\n",
       "      <td>Өндөр зэрэглэлийн оффис таурт</td>\n",
       "      <td>УБ — Сүхбаатар, Сүхбаатар, Хороо 1</td>\n",
       "      <td>Нийтэлсэн: 2025-06-09 22:06</td>\n",
       "      <td>8411374</td>\n",
       "      <td>10 Тэрбум ₮</td>\n",
       "      <td>📍Өндөр зэрэглэлийн оффис таурт өндөр давхарт, ...</td>\n",
       "      <td>545 м²</td>\n",
       "      <td>Ашиглалтад орсон</td>\n",
       "      <td>47.912432 106.921754</td>\n",
       "      <td>None</td>\n",
       "      <td>Сүхбаатар</td>\n",
       "      <td>1</td>\n",
       "      <td>Талбай</td>\n",
       "      <td>545.0</td>\n",
       "      <td>10000.00</td>\n",
       "    </tr>\n",
       "    <tr>\n",
       "      <th>1026</th>\n",
       "      <td>https://www.unegui.mn/adv/9330971_udirdlgyn-ak...</td>\n",
       "      <td>Удирдлагын академи баруун талд титан таур</td>\n",
       "      <td>УБ — Хан-Уул, Удирдлагын Академи</td>\n",
       "      <td>Нийтэлсэн: 2025-05-22 09:26</td>\n",
       "      <td>9330971</td>\n",
       "      <td>8.1 Тэрбум ₮</td>\n",
       "      <td>TITAN TOWER-т оффис үйлчилгээний талбай худ...</td>\n",
       "      <td>900 м²</td>\n",
       "      <td>Ашиглалтад ороогүй</td>\n",
       "      <td>47.897313 106.91261</td>\n",
       "      <td>N tower</td>\n",
       "      <td>Хан-Уул</td>\n",
       "      <td></td>\n",
       "      <td>Зайсан хойно</td>\n",
       "      <td>900.0</td>\n",
       "      <td>8100.00</td>\n",
       "    </tr>\n",
       "    <tr>\n",
       "      <th>610</th>\n",
       "      <td>https://www.unegui.mn/adv/9355924_khotyn-aaa-b...</td>\n",
       "      <td>Хотын төвд оффис 850мк талбай</td>\n",
       "      <td>УБ — Сүхбаатар, Сүхбаатар, Хороо 1</td>\n",
       "      <td>Нийтэлсэн: 2025-06-08 16:12</td>\n",
       "      <td>9355924</td>\n",
       "      <td>7.5 Тэрбум ₮</td>\n",
       "      <td>📍\"Аюуд\" тауэрт давхраар нь оффисийн талбай зар...</td>\n",
       "      <td>850 м²</td>\n",
       "      <td>Ашиглалтад орсон</td>\n",
       "      <td>47.912432 106.921754</td>\n",
       "      <td>None</td>\n",
       "      <td>Сүхбаатар</td>\n",
       "      <td>1</td>\n",
       "      <td>Талбай</td>\n",
       "      <td>850.0</td>\n",
       "      <td>7500.00</td>\n",
       "    </tr>\n",
       "    <tr>\n",
       "      <th>57</th>\n",
       "      <td>https://www.unegui.mn/adv/9369577_bzd-khavdar-...</td>\n",
       "      <td>Бзд, хавдар судлалын буудал, gumuda plaza 960м...</td>\n",
       "      <td>УБ — Баянзүрх, 13-р хороолол</td>\n",
       "      <td>Нийтэлсэн: Өнөөдөр 10:54</td>\n",
       "      <td>9369577</td>\n",
       "      <td>6.72 Тэрбум ₮\\nүнэ тохирно</td>\n",
       "      <td>БЗД, Хавдар судлалын буудал, Gumuda plaza 960м...</td>\n",
       "      <td>960 м²</td>\n",
       "      <td>Ашиглалтад ороогүй</td>\n",
       "      <td>47.913249 106.938278</td>\n",
       "      <td>Gumuda plaza</td>\n",
       "      <td>Баянзүрх</td>\n",
       "      <td></td>\n",
       "      <td>13-р хороолол</td>\n",
       "      <td>960.0</td>\n",
       "      <td>6720.00</td>\n",
       "    </tr>\n",
       "    <tr>\n",
       "      <th>306</th>\n",
       "      <td>https://www.unegui.mn/adv/8733135_skhd-dragony...</td>\n",
       "      <td>Схд драгоны ард оффис</td>\n",
       "      <td>УБ — Сонгинохайрхан, 5 шар</td>\n",
       "      <td>Нийтэлсэн: 2025-06-14 11:52</td>\n",
       "      <td>8733135</td>\n",
       "      <td>6.5 Тэрбум ₮</td>\n",
       "      <td>3 давхар оффис, гарааш том төвийн дулаан цахил...</td>\n",
       "      <td>2800 м²</td>\n",
       "      <td>Ашиглалтад орсон</td>\n",
       "      <td>47.91129 106.815021</td>\n",
       "      <td>None</td>\n",
       "      <td>Сонгинохайрхан</td>\n",
       "      <td></td>\n",
       "      <td>5 шар</td>\n",
       "      <td>2800.0</td>\n",
       "      <td>6500.00</td>\n",
       "    </tr>\n",
       "    <tr>\n",
       "      <th>...</th>\n",
       "      <td>...</td>\n",
       "      <td>...</td>\n",
       "      <td>...</td>\n",
       "      <td>...</td>\n",
       "      <td>...</td>\n",
       "      <td>...</td>\n",
       "      <td>...</td>\n",
       "      <td>...</td>\n",
       "      <td>...</td>\n",
       "      <td>...</td>\n",
       "      <td>...</td>\n",
       "      <td>...</td>\n",
       "      <td>...</td>\n",
       "      <td>...</td>\n",
       "      <td>...</td>\n",
       "      <td>...</td>\n",
       "    </tr>\n",
       "    <tr>\n",
       "      <th>566</th>\n",
       "      <td>https://www.unegui.mn/adv/9232564_tets-3-yn-ba...</td>\n",
       "      <td>Тэц 3-ын баруун талд оффис 135мк талбай</td>\n",
       "      <td>УБ — Хан-Уул, Үйлдвэрийн баруун бүс</td>\n",
       "      <td>Нийтэлсэн: 2025-06-09 12:34</td>\n",
       "      <td>9232564</td>\n",
       "      <td>2.8 сая ₮</td>\n",
       "      <td>ХУД ТЭЦ-3 арын зам дагуу 5 давхар барилгын 5 д...</td>\n",
       "      <td>135 м²</td>\n",
       "      <td>Ашиглалтад орсон</td>\n",
       "      <td>47.8947724569431 106.865545557816</td>\n",
       "      <td>None</td>\n",
       "      <td>Хан-Уул</td>\n",
       "      <td></td>\n",
       "      <td>Зайсан хойно</td>\n",
       "      <td>135.0</td>\n",
       "      <td>2.80</td>\n",
       "    </tr>\n",
       "    <tr>\n",
       "      <th>628</th>\n",
       "      <td>https://www.unegui.mn/adv/8920965_khud-3-r-kho...</td>\n",
       "      <td>Худ 3-р хороо оффис 135мкв</td>\n",
       "      <td>УБ — Хан-Уул, Хан-Уул, Хороо 3</td>\n",
       "      <td>Нийтэлсэн: 2025-06-07 16:04</td>\n",
       "      <td>8920965</td>\n",
       "      <td>2.65 сая ₮\\nүнэ тохирно</td>\n",
       "      <td>📣135м2 #Оффис, Үйлчилгээний талбай худалдана.\\...</td>\n",
       "      <td>135 м²</td>\n",
       "      <td>Ашиглалтад орсон</td>\n",
       "      <td>47.89971 106.874284</td>\n",
       "      <td>None</td>\n",
       "      <td>Хан-Уул</td>\n",
       "      <td>3</td>\n",
       "      <td>Зайсан хойно</td>\n",
       "      <td>135.0</td>\n",
       "      <td>2.65</td>\n",
       "    </tr>\n",
       "    <tr>\n",
       "      <th>791</th>\n",
       "      <td>https://www.unegui.mn/adv/9355976_21-horoolold...</td>\n",
       "      <td>21-r horoolold 141mkv office</td>\n",
       "      <td>УБ — Сонгинохайрхан, 21-р хороолол</td>\n",
       "      <td>Нийтэлсэн: 2025-06-03 16:33</td>\n",
       "      <td>9355976</td>\n",
       "      <td>2.6 сая ₮\\n2.8 сая ₮</td>\n",
       "      <td>21-r horoolold office zarna</td>\n",
       "      <td>141 м²</td>\n",
       "      <td>Ашиглалтад орсон</td>\n",
       "      <td>47.919182 106.814799</td>\n",
       "      <td>None</td>\n",
       "      <td>Сонгинохайрхан</td>\n",
       "      <td></td>\n",
       "      <td>21-р хороолол</td>\n",
       "      <td>141.0</td>\n",
       "      <td>2.60</td>\n",
       "    </tr>\n",
       "    <tr>\n",
       "      <th>699</th>\n",
       "      <td>https://www.unegui.mn/adv/8734912_dolgoon-nuur...</td>\n",
       "      <td>Сбд дөлгөөн нуурын зүүн талд computer mall офф...</td>\n",
       "      <td>УБ — Сүхбаатар, Сүхбаатар, Хороо 9</td>\n",
       "      <td>Нийтэлсэн: 2025-06-05 12:22</td>\n",
       "      <td>8734912</td>\n",
       "      <td>2.5 сая ₮\\nүнэ тохирно</td>\n",
       "      <td>✨Дөлгөөн нуурын зүүн талд Computer malld оффис...</td>\n",
       "      <td>434 м²</td>\n",
       "      <td>Ашиглалтад орсон</td>\n",
       "      <td>47.931917 106.912458</td>\n",
       "      <td>None</td>\n",
       "      <td>Сүхбаатар</td>\n",
       "      <td>9</td>\n",
       "      <td>Дөлгөөн нуур</td>\n",
       "      <td>434.0</td>\n",
       "      <td>2.50</td>\n",
       "    </tr>\n",
       "    <tr>\n",
       "      <th>634</th>\n",
       "      <td>https://www.unegui.mn/adv/9151717_3-4-khoroolo...</td>\n",
       "      <td>Бгд 3, 4 хороололд оффис 120мк талбай</td>\n",
       "      <td>УБ — Баянгол, 3, 4 хороолол</td>\n",
       "      <td>Нийтэлсэн: 2025-06-07 11:32</td>\n",
       "      <td>9151717</td>\n",
       "      <td>2.4 сая ₮\\nүнэ тохирно</td>\n",
       "      <td>💎 3.4 хороолол дүүхээ төвийн урд  ажил оффис ч...</td>\n",
       "      <td>120 м²</td>\n",
       "      <td>Ашиглалтад орсон</td>\n",
       "      <td>47.924395 106.87749</td>\n",
       "      <td>None</td>\n",
       "      <td>Баянгол</td>\n",
       "      <td></td>\n",
       "      <td>3, 4 хороолол</td>\n",
       "      <td>120.0</td>\n",
       "      <td>2.40</td>\n",
       "    </tr>\n",
       "  </tbody>\n",
       "</table>\n",
       "<p>1085 rows × 16 columns</p>\n",
       "</div>"
      ],
      "text/plain": [
       "                                                    url  \\\n",
       "515   https://www.unegui.mn/adv/8411374_ondor-zeregl...   \n",
       "1026  https://www.unegui.mn/adv/9330971_udirdlgyn-ak...   \n",
       "610   https://www.unegui.mn/adv/9355924_khotyn-aaa-b...   \n",
       "57    https://www.unegui.mn/adv/9369577_bzd-khavdar-...   \n",
       "306   https://www.unegui.mn/adv/8733135_skhd-dragony...   \n",
       "...                                                 ...   \n",
       "566   https://www.unegui.mn/adv/9232564_tets-3-yn-ba...   \n",
       "628   https://www.unegui.mn/adv/8920965_khud-3-r-kho...   \n",
       "791   https://www.unegui.mn/adv/9355976_21-horoolold...   \n",
       "699   https://www.unegui.mn/adv/8734912_dolgoon-nuur...   \n",
       "634   https://www.unegui.mn/adv/9151717_3-4-khoroolo...   \n",
       "\n",
       "                                                  title  \\\n",
       "515                       Өндөр зэрэглэлийн оффис таурт   \n",
       "1026          Удирдлагын академи баруун талд титан таур   \n",
       "610                       Хотын төвд оффис 850мк талбай   \n",
       "57    Бзд, хавдар судлалын буудал, gumuda plaza 960м...   \n",
       "306                               Схд драгоны ард оффис   \n",
       "...                                                 ...   \n",
       "566             Тэц 3-ын баруун талд оффис 135мк талбай   \n",
       "628                          Худ 3-р хороо оффис 135мкв   \n",
       "791                        21-r horoolold 141mkv office   \n",
       "699   Сбд дөлгөөн нуурын зүүн талд computer mall офф...   \n",
       "634               Бгд 3, 4 хороололд оффис 120мк талбай   \n",
       "\n",
       "                                 location                         date  \\\n",
       "515    УБ — Сүхбаатар, Сүхбаатар, Хороо 1  Нийтэлсэн: 2025-06-09 22:06   \n",
       "1026     УБ — Хан-Уул, Удирдлагын Академи  Нийтэлсэн: 2025-05-22 09:26   \n",
       "610    УБ — Сүхбаатар, Сүхбаатар, Хороо 1  Нийтэлсэн: 2025-06-08 16:12   \n",
       "57           УБ — Баянзүрх, 13-р хороолол     Нийтэлсэн: Өнөөдөр 10:54   \n",
       "306            УБ — Сонгинохайрхан, 5 шар  Нийтэлсэн: 2025-06-14 11:52   \n",
       "...                                   ...                          ...   \n",
       "566   УБ — Хан-Уул, Үйлдвэрийн баруун бүс  Нийтэлсэн: 2025-06-09 12:34   \n",
       "628        УБ — Хан-Уул, Хан-Уул, Хороо 3  Нийтэлсэн: 2025-06-07 16:04   \n",
       "791    УБ — Сонгинохайрхан, 21-р хороолол  Нийтэлсэн: 2025-06-03 16:33   \n",
       "699    УБ — Сүхбаатар, Сүхбаатар, Хороо 9  Нийтэлсэн: 2025-06-05 12:22   \n",
       "634           УБ — Баянгол, 3, 4 хороолол  Нийтэлсэн: 2025-06-07 11:32   \n",
       "\n",
       "        ad_id                 price_total  \\\n",
       "515   8411374                 10 Тэрбум ₮   \n",
       "1026  9330971                8.1 Тэрбум ₮   \n",
       "610   9355924                7.5 Тэрбум ₮   \n",
       "57    9369577  6.72 Тэрбум ₮\\nүнэ тохирно   \n",
       "306   8733135                6.5 Тэрбум ₮   \n",
       "...       ...                         ...   \n",
       "566   9232564                   2.8 сая ₮   \n",
       "628   8920965     2.65 сая ₮\\nүнэ тохирно   \n",
       "791   9355976        2.6 сая ₮\\n2.8 сая ₮   \n",
       "699   8734912      2.5 сая ₮\\nүнэ тохирно   \n",
       "634   9151717      2.4 сая ₮\\nүнэ тохирно   \n",
       "\n",
       "                                                ad_text     size  \\\n",
       "515   📍Өндөр зэрэглэлийн оффис таурт өндөр давхарт, ...   545 м²   \n",
       "1026  TITAN TOWER-т оффис үйлчилгээний талбай худ...   900 м²   \n",
       "610   📍\"Аюуд\" тауэрт давхраар нь оффисийн талбай зар...   850 м²   \n",
       "57    БЗД, Хавдар судлалын буудал, Gumuda plaza 960м...   960 м²   \n",
       "306   3 давхар оффис, гарааш том төвийн дулаан цахил...  2800 м²   \n",
       "...                                                 ...      ...   \n",
       "566   ХУД ТЭЦ-3 арын зам дагуу 5 давхар барилгын 5 д...   135 м²   \n",
       "628   📣135м2 #Оффис, Үйлчилгээний талбай худалдана.\\...   135 м²   \n",
       "791                         21-r horoolold office zarna   141 м²   \n",
       "699   ✨Дөлгөөн нуурын зүүн талд Computer malld оффис...   434 м²   \n",
       "634   💎 3.4 хороолол дүүхээ төвийн урд  ажил оффис ч...   120 м²   \n",
       "\n",
       "           progress_cons                       clean_coords   office_name  \\\n",
       "515     Ашиглалтад орсон               47.912432 106.921754          None   \n",
       "1026  Ашиглалтад ороогүй                47.897313 106.91261       N tower   \n",
       "610     Ашиглалтад орсон               47.912432 106.921754          None   \n",
       "57    Ашиглалтад ороогүй               47.913249 106.938278  Gumuda plaza   \n",
       "306     Ашиглалтад орсон                47.91129 106.815021          None   \n",
       "...                  ...                                ...           ...   \n",
       "566     Ашиглалтад орсон  47.8947724569431 106.865545557816          None   \n",
       "628     Ашиглалтад орсон                47.89971 106.874284          None   \n",
       "791     Ашиглалтад орсон               47.919182 106.814799          None   \n",
       "699     Ашиглалтад орсон               47.931917 106.912458          None   \n",
       "634     Ашиглалтад орсон                47.924395 106.87749          None   \n",
       "\n",
       "            district khoroo     mylocation    area     price  \n",
       "515        Сүхбаатар      1         Талбай   545.0  10000.00  \n",
       "1026         Хан-Уул          Зайсан хойно   900.0   8100.00  \n",
       "610        Сүхбаатар      1         Талбай   850.0   7500.00  \n",
       "57          Баянзүрх         13-р хороолол   960.0   6720.00  \n",
       "306   Сонгинохайрхан                 5 шар  2800.0   6500.00  \n",
       "...              ...    ...            ...     ...       ...  \n",
       "566          Хан-Уул          Зайсан хойно   135.0      2.80  \n",
       "628          Хан-Уул      3   Зайсан хойно   135.0      2.65  \n",
       "791   Сонгинохайрхан         21-р хороолол   141.0      2.60  \n",
       "699        Сүхбаатар      9   Дөлгөөн нуур   434.0      2.50  \n",
       "634          Баянгол         3, 4 хороолол   120.0      2.40  \n",
       "\n",
       "[1085 rows x 16 columns]"
      ]
     },
     "execution_count": 501,
     "metadata": {},
     "output_type": "execute_result"
    }
   ],
   "source": [
    "df['price'].describe()\n",
    "df.sort_values(by='price', ascending=False)"
   ]
  },
  {
   "cell_type": "markdown",
   "id": "2a55a646",
   "metadata": {},
   "source": [
    "1 м.кв-ийн үнийг бодож гаргах"
   ]
  },
  {
   "cell_type": "code",
   "execution_count": 502,
   "id": "31d3ecb4",
   "metadata": {},
   "outputs": [],
   "source": [
    "df = df[(df['price'] < 15) | (df['price'] > 50)]  # 15-с 50-ийн хоорондох утгыг хасах"
   ]
  },
  {
   "cell_type": "code",
   "execution_count": 503,
   "id": "7c3db27f",
   "metadata": {},
   "outputs": [],
   "source": [
    "df['price_m2'] = df['price']"
   ]
  },
  {
   "cell_type": "code",
   "execution_count": 504,
   "id": "233d94da",
   "metadata": {},
   "outputs": [],
   "source": [
    "mask = df['price'] > 15 #15-с их утгуудыг маск болгож авна. \n",
    "df.loc[mask, 'price_m2'] = df.loc[mask, 'price'] / df.loc[mask, 'area'] #15-с их утгыг талбайд нь хувааж 1 м.кв үнийг гаргана\n",
    "df['price_m2'] = df['price_m2'].round(2) # 10-ны орноор бүхэлчлэв."
   ]
  },
  {
   "cell_type": "markdown",
   "id": "66c84a34",
   "metadata": {},
   "source": [
    "1 м.кв-ийн үнээр байгааг нийт үнэ болгох"
   ]
  },
  {
   "cell_type": "code",
   "execution_count": 505,
   "id": "f42f4f03",
   "metadata": {},
   "outputs": [],
   "source": [
    "mask = df['price'] < 15 #15-с их утгуудыг маск болгож авна. \n",
    "df.loc[mask, 'price'] = df.loc[mask, 'price_m2'] * df.loc[mask, 'area'] # 1 м.кв-аар байгаа үнийг нийт үнэ болгох\n",
    "df['price'] = df['price'].round(2) # 10-ны орноор бүхэлчлэв."
   ]
  },
  {
   "cell_type": "code",
   "execution_count": 506,
   "id": "f0f67db7",
   "metadata": {},
   "outputs": [
    {
     "data": {
      "text/html": [
       "<div>\n",
       "<style scoped>\n",
       "    .dataframe tbody tr th:only-of-type {\n",
       "        vertical-align: middle;\n",
       "    }\n",
       "\n",
       "    .dataframe tbody tr th {\n",
       "        vertical-align: top;\n",
       "    }\n",
       "\n",
       "    .dataframe thead th {\n",
       "        text-align: right;\n",
       "    }\n",
       "</style>\n",
       "<table border=\"1\" class=\"dataframe\">\n",
       "  <thead>\n",
       "    <tr style=\"text-align: right;\">\n",
       "      <th></th>\n",
       "      <th>office_name</th>\n",
       "      <th>price</th>\n",
       "      <th>area</th>\n",
       "      <th>price_m2</th>\n",
       "      <th>ad_id</th>\n",
       "    </tr>\n",
       "  </thead>\n",
       "  <tbody>\n",
       "    <tr>\n",
       "      <th>515</th>\n",
       "      <td>None</td>\n",
       "      <td>10000.0</td>\n",
       "      <td>545.0</td>\n",
       "      <td>18.35</td>\n",
       "      <td>8411374</td>\n",
       "    </tr>\n",
       "    <tr>\n",
       "      <th>49</th>\n",
       "      <td>Minister Tower</td>\n",
       "      <td>1743.3</td>\n",
       "      <td>117.0</td>\n",
       "      <td>14.90</td>\n",
       "      <td>8999119</td>\n",
       "    </tr>\n",
       "    <tr>\n",
       "      <th>376</th>\n",
       "      <td>Minister Tower</td>\n",
       "      <td>1740.0</td>\n",
       "      <td>117.0</td>\n",
       "      <td>14.87</td>\n",
       "      <td>9441646</td>\n",
       "    </tr>\n",
       "    <tr>\n",
       "      <th>934</th>\n",
       "      <td>River plaza</td>\n",
       "      <td>670.0</td>\n",
       "      <td>47.0</td>\n",
       "      <td>14.26</td>\n",
       "      <td>9239644</td>\n",
       "    </tr>\n",
       "    <tr>\n",
       "      <th>622</th>\n",
       "      <td>Minister Tower</td>\n",
       "      <td>1630.0</td>\n",
       "      <td>117.0</td>\n",
       "      <td>13.93</td>\n",
       "      <td>8494225</td>\n",
       "    </tr>\n",
       "    <tr>\n",
       "      <th>...</th>\n",
       "      <td>...</td>\n",
       "      <td>...</td>\n",
       "      <td>...</td>\n",
       "      <td>...</td>\n",
       "      <td>...</td>\n",
       "    </tr>\n",
       "    <tr>\n",
       "      <th>641</th>\n",
       "      <td>None</td>\n",
       "      <td>130.0</td>\n",
       "      <td>60.0</td>\n",
       "      <td>2.17</td>\n",
       "      <td>9421755</td>\n",
       "    </tr>\n",
       "    <tr>\n",
       "      <th>96</th>\n",
       "      <td>None</td>\n",
       "      <td>80.0</td>\n",
       "      <td>53.0</td>\n",
       "      <td>1.51</td>\n",
       "      <td>9456693</td>\n",
       "    </tr>\n",
       "    <tr>\n",
       "      <th>91</th>\n",
       "      <td>None</td>\n",
       "      <td>80.0</td>\n",
       "      <td>57.0</td>\n",
       "      <td>1.40</td>\n",
       "      <td>9457079</td>\n",
       "    </tr>\n",
       "    <tr>\n",
       "      <th>717</th>\n",
       "      <td>None</td>\n",
       "      <td>77.2</td>\n",
       "      <td>285.0</td>\n",
       "      <td>0.27</td>\n",
       "      <td>9415257</td>\n",
       "    </tr>\n",
       "    <tr>\n",
       "      <th>281</th>\n",
       "      <td>None</td>\n",
       "      <td>130.0</td>\n",
       "      <td>680.0</td>\n",
       "      <td>0.19</td>\n",
       "      <td>9139226</td>\n",
       "    </tr>\n",
       "  </tbody>\n",
       "</table>\n",
       "<p>1082 rows × 5 columns</p>\n",
       "</div>"
      ],
      "text/plain": [
       "        office_name    price   area  price_m2    ad_id\n",
       "515            None  10000.0  545.0     18.35  8411374\n",
       "49   Minister Tower   1743.3  117.0     14.90  8999119\n",
       "376  Minister Tower   1740.0  117.0     14.87  9441646\n",
       "934     River plaza    670.0   47.0     14.26  9239644\n",
       "622  Minister Tower   1630.0  117.0     13.93  8494225\n",
       "..              ...      ...    ...       ...      ...\n",
       "641            None    130.0   60.0      2.17  9421755\n",
       "96             None     80.0   53.0      1.51  9456693\n",
       "91             None     80.0   57.0      1.40  9457079\n",
       "717            None     77.2  285.0      0.27  9415257\n",
       "281            None    130.0  680.0      0.19  9139226\n",
       "\n",
       "[1082 rows x 5 columns]"
      ]
     },
     "execution_count": 506,
     "metadata": {},
     "output_type": "execute_result"
    }
   ],
   "source": [
    "df.sort_values(by='price_m2', ascending=False)[['office_name','price', 'area', 'price_m2', 'ad_id']]"
   ]
  },
  {
   "cell_type": "markdown",
   "id": "ea945bfc",
   "metadata": {},
   "source": [
    "### Огноог хувиргах"
   ]
  },
  {
   "cell_type": "code",
   "execution_count": 507,
   "id": "88934077",
   "metadata": {},
   "outputs": [],
   "source": [
    "import pandas as pd\n",
    "from datetime import datetime, timedelta\n",
    "\n",
    "# Одоогийн огноог авна (2025-06-20 14:09 гэж авч байна)\n",
    "today = datetime.now().replace(hour=0, minute=0, second=0, microsecond=0)\n",
    "yesterday = today - timedelta(days=1)\n",
    "\n",
    "# Огноог хөрвүүлэх функц\n",
    "def parse_date(text):\n",
    "    date_str = text.replace(\"Нийтэлсэн: \", \"\").strip()\n",
    "    if date_str.startswith(\"Өнөөдөр\"):\n",
    "        time_str = date_str.replace(\"Өнөөдөр \", \"\").strip()\n",
    "        return datetime.strptime(f\"{today.strftime('%Y-%m-%d')} {time_str}\", \"%Y-%m-%d %H:%M\")\n",
    "    elif date_str.startswith(\"Өчигдөр\"):\n",
    "        time_str = date_str.replace(\"Өчигдөр \", \"\").strip()\n",
    "        return datetime.strptime(f\"{yesterday.strftime('%Y-%m-%d')} {time_str}\", \"%Y-%m-%d %H:%M\")\n",
    "    else:\n",
    "        return datetime.strptime(date_str, \"%Y-%m-%d %H:%M\")\n",
    "\n",
    "# Огноог хөрвүүлэх\n",
    "df[\"parsed_date\"] = df[\"date\"].apply(parse_date)\n",
    "# Огноо, цагийг тусад нь баганад оруулах\n",
    "df[\"date\"] = df[\"parsed_date\"].dt.strftime(\"%Y-%m-%d\")\n",
    "df[\"time\"] = df[\"parsed_date\"].dt.strftime(\"%H:%M\")"
   ]
  },
  {
   "cell_type": "markdown",
   "id": "6c0b7376",
   "metadata": {},
   "source": [
    "### Хэрэггүй багана устгаж файл хадгалах"
   ]
  },
  {
   "cell_type": "markdown",
   "id": "865f9674",
   "metadata": {},
   "source": [
    "Хэрэггүй багана устгах"
   ]
  },
  {
   "cell_type": "code",
   "execution_count": 509,
   "id": "e560e6ee",
   "metadata": {},
   "outputs": [],
   "source": [
    "df.drop(columns=['location', 'price_total', 'size', 'parsed_date'], inplace=True)"
   ]
  },
  {
   "cell_type": "markdown",
   "id": "cda9dc08",
   "metadata": {},
   "source": [
    "Оффисын нэр, нийт үнэ, талбайн хэмжээ давхацсан заруудыг устгах"
   ]
  },
  {
   "cell_type": "code",
   "execution_count": 511,
   "id": "f628c5f3",
   "metadata": {},
   "outputs": [
    {
     "name": "stderr",
     "output_type": "stream",
     "text": [
      "C:\\Users\\Rentsen.Ts\\AppData\\Local\\Temp\\ipykernel_4888\\2426734457.py:1: SettingWithCopyWarning: \n",
      "A value is trying to be set on a copy of a slice from a DataFrame\n",
      "\n",
      "See the caveats in the documentation: https://pandas.pydata.org/pandas-docs/stable/user_guide/indexing.html#returning-a-view-versus-a-copy\n",
      "  df2.drop_duplicates(subset=['office_name', 'price', 'area'], keep='first', inplace=True)\n"
     ]
    }
   ],
   "source": [
    "df2.drop_duplicates(subset=['office_name', 'price', 'area'], keep='first', inplace=True)"
   ]
  },
  {
   "cell_type": "markdown",
   "id": "6f2cb4b7",
   "metadata": {},
   "source": [
    "Зөв дарааллаар Dataframe үүсгэх"
   ]
  },
  {
   "cell_type": "code",
   "execution_count": 510,
   "id": "35a66f56",
   "metadata": {},
   "outputs": [],
   "source": [
    "df2 = df[['ad_id', 'district', 'khoroo', 'mylocation','office_name','price', 'area', 'price_m2', 'progress_cons','title', 'ad_text', 'clean_coords','url', 'date', 'time']]"
   ]
  },
  {
   "cell_type": "markdown",
   "id": "8944c677",
   "metadata": {},
   "source": [
    "Dataframe хадгалах"
   ]
  },
  {
   "cell_type": "code",
   "execution_count": 512,
   "id": "beb2e046",
   "metadata": {},
   "outputs": [],
   "source": [
    "# 'result' фолдер үүсгэх\n",
    "folder_path = \"result\"\n",
    "if not os.path.exists(folder_path):\n",
    "    os.makedirs(folder_path)\n",
    "\n",
    "# Файлыг 'result' фолдерт хадгалах\n",
    "file_path = os.path.join(folder_path, \"output.csv\")\n",
    "df2.to_csv(file_path, index=False,  encoding='utf-8-sig')"
   ]
  },
  {
   "cell_type": "code",
   "execution_count": null,
   "id": "4ba2d295",
   "metadata": {},
   "outputs": [],
   "source": []
  },
  {
   "cell_type": "code",
   "execution_count": null,
   "id": "4510eb5c",
   "metadata": {},
   "outputs": [],
   "source": []
  }
 ],
 "metadata": {
  "kernelspec": {
   "display_name": "base",
   "language": "python",
   "name": "python3"
  },
  "language_info": {
   "codemirror_mode": {
    "name": "ipython",
    "version": 3
   },
   "file_extension": ".py",
   "mimetype": "text/x-python",
   "name": "python",
   "nbconvert_exporter": "python",
   "pygments_lexer": "ipython3",
   "version": "3.12.7"
  }
 },
 "nbformat": 4,
 "nbformat_minor": 5
}
